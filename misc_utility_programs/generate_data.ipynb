{
  "nbformat": 4,
  "nbformat_minor": 0,
  "metadata": {
    "colab": {
      "provenance": [],
      "authorship_tag": "ABX9TyMtdPDgOdD5cnvGLGZMw9U1",
      "include_colab_link": true
    },
    "kernelspec": {
      "name": "python3",
      "display_name": "Python 3"
    },
    "language_info": {
      "name": "python"
    }
  },
  "cells": [
    {
      "cell_type": "markdown",
      "metadata": {
        "id": "view-in-github",
        "colab_type": "text"
      },
      "source": [
        "<a href=\"https://colab.research.google.com/github/rajeevsingh717/Notebooks/blob/main/generate_data.ipynb\" target=\"_parent\"><img src=\"https://colab.research.google.com/assets/colab-badge.svg\" alt=\"Open In Colab\"/></a>"
      ]
    },
    {
      "cell_type": "markdown",
      "source": [
        "Creating funtion \"generate_random_data_row\" to pick any datatype at random and create a value for that data type. Overall this functions returns 1 row at a time for all datatypes"
      ],
      "metadata": {
        "id": "ZCi2b54Q6216"
      }
    },
    {
      "cell_type": "code",
      "execution_count": null,
      "metadata": {
        "id": "EWRo953bddj4"
      },
      "outputs": [],
      "source": [
        "import csv\n",
        "import random\n",
        "from datetime import datetime, timedelta\n",
        "\n",
        "def generate_random_data_row(num_columns):\n",
        "    row = []\n",
        "    for _ in range(num_columns):\n",
        "        col_type = random.choice(['Date', 'Varchar', 'Float', 'Integer'])\n",
        "\n",
        "        if col_type == 'Date':\n",
        "            date = (datetime.now() - timedelta(days=random.randint(1, 365))).strftime('%Y-%m-%d')\n",
        "            row.append(date)\n",
        "        elif col_type == 'Varchar':\n",
        "            varchar = 'String_' + str(random.randint(1, 1000))\n",
        "            row.append(varchar)\n",
        "        elif col_type == 'Float':\n",
        "            float_value = round(random.uniform(1.0, 100.0), 2)\n",
        "            row.append(float_value)\n",
        "        elif col_type == 'Integer':\n",
        "            integer = random.randint(1, 100)\n",
        "            row.append(integer)\n",
        "\n",
        "    return row"
      ]
    },
    {
      "cell_type": "markdown",
      "source": [
        "Below funtion running for all the rows and calling the 1st function to generate the row and writing the row to CSV file in the current directory"
      ],
      "metadata": {
        "id": "2BRhASEl7Q2k"
      }
    },
    {
      "cell_type": "code",
      "source": [
        "def generate_csv_file(filename, num_rows, num_columns):\n",
        "    with open(filename, mode='w', newline='') as csv_file:\n",
        "        writer = csv.writer(csv_file)\n",
        "\n",
        "        # Generate and write headers\n",
        "        headers = ['Column{}'.format(i) for i in range(1, num_columns + 1)]\n",
        "        writer.writerow(headers)\n",
        "\n",
        "        # Generate and write rows\n",
        "        for _ in range(num_rows):\n",
        "            row = generate_random_data_row(num_columns)\n",
        "            writer.writerow(row)\n",
        "\n",
        "        print(\"CSV file generated successfully.\")\n"
      ],
      "metadata": {
        "id": "429ETP0Ld-qo"
      },
      "execution_count": null,
      "outputs": []
    },
    {
      "cell_type": "markdown",
      "source": [
        "Calling the main function and providing the file details and number of rows and columns"
      ],
      "metadata": {
        "id": "cUj9uu7U8Ev6"
      }
    },
    {
      "cell_type": "code",
      "source": [
        "# Specify the number of rows and columns\n",
        "num_rows = 1000\n",
        "num_columns = 5\n",
        "\n",
        "# Generate CSV file with random data\n",
        "generate_csv_file('data.csv', num_rows, num_columns)"
      ],
      "metadata": {
        "colab": {
          "base_uri": "https://localhost:8080/"
        },
        "id": "VFU-lB-BeBjk",
        "outputId": "bc567c3f-bbae-490f-d2b1-f07824e7430f"
      },
      "execution_count": null,
      "outputs": [
        {
          "output_type": "stream",
          "name": "stdout",
          "text": [
            "CSV file generated successfully.\n"
          ]
        }
      ]
    }
  ]
}